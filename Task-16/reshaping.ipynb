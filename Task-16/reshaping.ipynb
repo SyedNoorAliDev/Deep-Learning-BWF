{
 "cells": [
  {
   "cell_type": "code",
   "execution_count": 1,
   "metadata": {},
   "outputs": [
    {
     "name": "stdout",
     "output_type": "stream",
     "text": [
      "a  1  Ohio        2.196552\n",
      "      Colorado    0.823931\n",
      "      Texas      -1.980966\n",
      "      New York    0.354135\n",
      "   2  Ohio        0.680636\n",
      "      Colorado    0.004401\n",
      "      Texas      -1.623647\n",
      "      New York    0.577668\n",
      "b  1  Ohio        0.863303\n",
      "      Colorado    1.675542\n",
      "      Texas       1.301717\n",
      "      New York   -0.962068\n",
      "   2  Ohio        0.876440\n",
      "      Colorado    0.216694\n",
      "      Texas       3.041662\n",
      "      New York    0.396368\n",
      "a  1  Ohio       -1.210393\n",
      "      Colorado    1.323121\n",
      "      Texas       0.990325\n",
      "      New York   -0.244318\n",
      "   2  Ohio        0.060331\n",
      "      Colorado   -1.911467\n",
      "      Texas       0.868337\n",
      "      New York    0.208064\n",
      "b  1  Ohio       -0.370647\n",
      "      Colorado   -0.931652\n",
      "      Texas      -1.211330\n",
      "      New York    0.498621\n",
      "   2  Ohio       -0.676018\n",
      "      Colorado    1.846967\n",
      "      Texas      -0.598036\n",
      "      New York    0.428753\n",
      "dtype: float64\n"
     ]
    }
   ],
   "source": [
    "import pandas as pd\n",
    "import numpy as np\n",
    "\n",
    "# Create an example data frame with hierarchical indexing\n",
    "data = pd.DataFrame(np.random.randn(8, 4),\n",
    "                    index=pd.MultiIndex.from_tuples([('a', 1), ('a', 2), ('b', 1), ('b', 2),\n",
    "                                                     ('a', 1), ('a', 2), ('b', 1), ('b', 2)]),\n",
    "                    columns=['Ohio', 'Colorado', 'Texas', 'New York'])\n",
    "\n",
    "# Reshape the data frame using stack()\n",
    "stacked = data.stack()\n",
    "\n",
    "print(stacked)\n"
   ]
  }
 ],
 "metadata": {
  "kernelspec": {
   "display_name": "Python 3",
   "language": "python",
   "name": "python3"
  },
  "language_info": {
   "codemirror_mode": {
    "name": "ipython",
    "version": 3
   },
   "file_extension": ".py",
   "mimetype": "text/x-python",
   "name": "python",
   "nbconvert_exporter": "python",
   "pygments_lexer": "ipython3",
   "version": "3.10.2"
  },
  "orig_nbformat": 4
 },
 "nbformat": 4,
 "nbformat_minor": 2
}
