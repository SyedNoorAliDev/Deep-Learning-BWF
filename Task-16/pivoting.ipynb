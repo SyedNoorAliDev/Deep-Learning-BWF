{
 "cells": [
  {
   "cell_type": "code",
   "execution_count": 1,
   "metadata": {},
   "outputs": [
    {
     "name": "stdout",
     "output_type": "stream",
     "text": [
      "Empty DataFrame\n",
      "Columns: []\n",
      "Index: [bar, baz, foo]\n"
     ]
    }
   ],
   "source": [
    "import pandas as pd\n",
    "\n",
    "# Create an example data frame\n",
    "data = pd.DataFrame({'key': ['foo', 'bar', 'baz', 'foo', 'bar', 'baz'],\n",
    "                     'value': [1, 2, 3, 4, 5, 6]})\n",
    "\n",
    "# Pivot the data frame from \"long\" to \"wide\" format\n",
    "pivoted = data.pivot('key', 'value')\n",
    "\n",
    "print(pivoted)\n"
   ]
  }
 ],
 "metadata": {
  "kernelspec": {
   "display_name": "Python 3",
   "language": "python",
   "name": "python3"
  },
  "language_info": {
   "codemirror_mode": {
    "name": "ipython",
    "version": 3
   },
   "file_extension": ".py",
   "mimetype": "text/x-python",
   "name": "python",
   "nbconvert_exporter": "python",
   "pygments_lexer": "ipython3",
   "version": "3.10.2"
  },
  "orig_nbformat": 4
 },
 "nbformat": 4,
 "nbformat_minor": 2
}
