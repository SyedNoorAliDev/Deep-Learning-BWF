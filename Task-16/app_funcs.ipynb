{
 "cells": [
  {
   "cell_type": "code",
   "execution_count": 1,
   "metadata": {},
   "outputs": [
    {
     "name": "stdout",
     "output_type": "stream",
     "text": [
      "0   -0.707107\n",
      "1   -0.707107\n",
      "2   -0.707107\n",
      "3    0.707107\n",
      "4    0.707107\n",
      "5    0.707107\n",
      "Name: data, dtype: float64\n"
     ]
    }
   ],
   "source": [
    "import pandas as pd\n",
    "import numpy as np\n",
    "\n",
    "# Create an example data frame\n",
    "df = pd.DataFrame({'key': ['A', 'B', 'C', 'A', 'B', 'C'],\n",
    "                   'data': [1, 2, 3, 4, 5, 6]})\n",
    "\n",
    "# Define a custom function to apply to each group\n",
    "def normalize(x):\n",
    "    return (x - x.mean()) / x.std()\n",
    "\n",
    "# Apply the function to the grouped data\n",
    "normalized = df.groupby('key')['data'].apply(normalize)\n",
    "\n",
    "print(normalized)\n"
   ]
  }
 ],
 "metadata": {
  "kernelspec": {
   "display_name": "Python 3",
   "language": "python",
   "name": "python3"
  },
  "language_info": {
   "codemirror_mode": {
    "name": "ipython",
    "version": 3
   },
   "file_extension": ".py",
   "mimetype": "text/x-python",
   "name": "python",
   "nbconvert_exporter": "python",
   "pygments_lexer": "ipython3",
   "version": "3.10.2"
  },
  "orig_nbformat": 4
 },
 "nbformat": 4,
 "nbformat_minor": 2
}
