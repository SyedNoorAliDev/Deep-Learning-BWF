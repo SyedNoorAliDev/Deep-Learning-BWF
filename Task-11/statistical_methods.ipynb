{
 "cells": [
  {
   "cell_type": "code",
   "execution_count": 1,
   "metadata": {},
   "outputs": [],
   "source": [
    "import numpy as np"
   ]
  },
  {
   "cell_type": "code",
   "execution_count": 2,
   "metadata": {},
   "outputs": [
    {
     "data": {
      "text/plain": [
       "array([[-0.17664411,  0.31270058, -0.83702229, -2.93159129],\n",
       "       [-0.92685643,  0.62594303,  0.81372737,  1.26380454],\n",
       "       [-0.43081504, -0.39554313,  2.19351176, -0.27240937],\n",
       "       [ 2.07674277,  0.12912749, -0.07133277, -0.07372644],\n",
       "       [ 0.96484259,  0.07072312,  0.17817068,  0.30519281]])"
      ]
     },
     "execution_count": 2,
     "metadata": {},
     "output_type": "execute_result"
    }
   ],
   "source": [
    "arr = np.random.randn(5, 4)\n",
    "arr"
   ]
  },
  {
   "cell_type": "code",
   "execution_count": 3,
   "metadata": {},
   "outputs": [
    {
     "data": {
      "text/plain": [
       "0.14092729409668261"
      ]
     },
     "execution_count": 3,
     "metadata": {},
     "output_type": "execute_result"
    }
   ],
   "source": [
    "arr.mean()"
   ]
  },
  {
   "cell_type": "code",
   "execution_count": 4,
   "metadata": {},
   "outputs": [
    {
     "data": {
      "text/plain": [
       "0.14092729409668261"
      ]
     },
     "execution_count": 4,
     "metadata": {},
     "output_type": "execute_result"
    }
   ],
   "source": [
    "np.mean(arr)"
   ]
  },
  {
   "cell_type": "code",
   "execution_count": 5,
   "metadata": {},
   "outputs": [
    {
     "data": {
      "text/plain": [
       "2.818545881933652"
      ]
     },
     "execution_count": 5,
     "metadata": {},
     "output_type": "execute_result"
    }
   ],
   "source": [
    "arr.sum()"
   ]
  },
  {
   "cell_type": "code",
   "execution_count": 6,
   "metadata": {},
   "outputs": [
    {
     "data": {
      "text/plain": [
       "array([-0.90813928,  0.44415463,  0.27368606,  0.51520276,  0.3797323 ])"
      ]
     },
     "execution_count": 6,
     "metadata": {},
     "output_type": "execute_result"
    }
   ],
   "source": [
    "arr.mean(axis=1)"
   ]
  },
  {
   "cell_type": "code",
   "execution_count": 7,
   "metadata": {},
   "outputs": [
    {
     "data": {
      "text/plain": [
       "array([ 1.50726978,  0.7429511 ,  2.27705475, -1.70872975])"
      ]
     },
     "execution_count": 7,
     "metadata": {},
     "output_type": "execute_result"
    }
   ],
   "source": [
    "arr.sum(0)#means sum down the rows\n",
    "arr.sum(1)#means sum across cols "
   ]
  },
  {
   "cell_type": "code",
   "execution_count": 8,
   "metadata": {},
   "outputs": [
    {
     "data": {
      "text/plain": [
       "array([[-0.17664411,  0.31270058, -0.83702229, -2.93159129],\n",
       "       [-1.10350054,  0.93864362, -0.02329493, -1.66778675],\n",
       "       [-1.53431558,  0.54310049,  2.17021684, -1.94019612],\n",
       "       [ 0.54242719,  0.67222798,  2.09888406, -2.01392256],\n",
       "       [ 1.50726978,  0.7429511 ,  2.27705475, -1.70872975]])"
      ]
     },
     "execution_count": 8,
     "metadata": {},
     "output_type": "execute_result"
    }
   ],
   "source": [
    "arr.cumsum(axis=0) #accumulation func.(running sum)"
   ]
  },
  {
   "cell_type": "code",
   "execution_count": 9,
   "metadata": {},
   "outputs": [
    {
     "data": {
      "text/plain": [
       "array([[-1.76644107e-01, -5.52367153e-02,  4.62343621e-02,\n",
       "        -1.35540253e-01],\n",
       "       [-9.26856431e-01, -5.80159326e-01, -4.72091520e-01,\n",
       "        -5.96631407e-01],\n",
       "       [-4.30815038e-01,  1.70405926e-01,  3.73787404e-01,\n",
       "        -1.01823192e-01],\n",
       "       [ 2.07674277e+00,  2.68164584e-01, -1.91289235e-02,\n",
       "         1.41030752e-03],\n",
       "       [ 9.64842590e-01,  6.82366762e-02,  1.21577753e-02,\n",
       "         3.71046564e-03]])"
      ]
     },
     "execution_count": 9,
     "metadata": {},
     "output_type": "execute_result"
    }
   ],
   "source": [
    "arr.cumprod(axis=1)# accumulative (running product)"
   ]
  }
 ],
 "metadata": {
  "kernelspec": {
   "display_name": "Python 3",
   "language": "python",
   "name": "python3"
  },
  "language_info": {
   "codemirror_mode": {
    "name": "ipython",
    "version": 3
   },
   "file_extension": ".py",
   "mimetype": "text/x-python",
   "name": "python",
   "nbconvert_exporter": "python",
   "pygments_lexer": "ipython3",
   "version": "3.10.2"
  },
  "orig_nbformat": 4
 },
 "nbformat": 4,
 "nbformat_minor": 2
}
